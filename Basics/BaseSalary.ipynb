{
 "cells": [
  {
   "cell_type": "code",
   "execution_count": 12,
   "id": "6dd2f0c9",
   "metadata": {},
   "outputs": [],
   "source": [
    "class BaseSalary:\n",
    "    def __init__(self, base_salary, bonus_rate, symbol=\"$\"):\n",
    "        self.base_salary = base_salary\n",
    "        self.bonus_rate = bonus_rate\n",
    "        self.symbol = symbol\n",
    "        self.total_salary = base_salary * (1 + bonus_rate)\n",
    "        self.bonus = self.total_salary - self.base_salary\n",
    "    # :,.0f is format e.g. 100,000\n",
    "    def __repr__(self):\n",
    "        return f'{self.symbol}{self.base_salary:,.0f}'\n",
    "\n",
    "    def show_salary(self):\n",
    "        return f'{self.symbol}{self.total_salary:,.0f}'\n",
    "\n",
    "    def show_bonus(self):\n",
    "        return f'{self.symbol}{self.bonus:,.0f}'"
   ]
  },
  {
   "cell_type": "code",
   "execution_count": 15,
   "id": "0cbdecea",
   "metadata": {},
   "outputs": [
    {
     "data": {
      "text/plain": [
       "'$120,000'"
      ]
     },
     "execution_count": 15,
     "metadata": {},
     "output_type": "execute_result"
    }
   ],
   "source": [
    "salary = BaseSalary(100000, 0.2)\n",
    "\n",
    "salary.show_salary()"
   ]
  }
 ],
 "metadata": {
  "kernelspec": {
   "display_name": ".venv",
   "language": "python",
   "name": "python3"
  },
  "language_info": {
   "codemirror_mode": {
    "name": "ipython",
    "version": 3
   },
   "file_extension": ".py",
   "mimetype": "text/x-python",
   "name": "python",
   "nbconvert_exporter": "python",
   "pygments_lexer": "ipython3",
   "version": "3.13.5"
  }
 },
 "nbformat": 4,
 "nbformat_minor": 5
}
