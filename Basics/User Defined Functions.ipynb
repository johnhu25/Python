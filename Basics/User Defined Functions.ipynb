{
 "cells": [
  {
   "cell_type": "code",
   "execution_count": null,
   "id": "21819f15",
   "metadata": {},
   "outputs": [],
   "source": [
    "#Calculate total_salary of base_salary * (1 + bonus_rate)\n",
    "\n",
    "base_salary = 100000\n",
    "bonus_rate = 0.03\n",
    "\n",
    "def calculate_salary(base_salary, bonus_rate):\n",
    "    total_salary = base_salary * (1 + bonus_rate)\n",
    "    return total_salary\n",
    "\n",
    "\n"
   ]
  },
  {
   "cell_type": "code",
   "execution_count": 2,
   "id": "93b22523",
   "metadata": {},
   "outputs": [
    {
     "data": {
      "text/plain": [
       "103000.0"
      ]
     },
     "execution_count": 2,
     "metadata": {},
     "output_type": "execute_result"
    }
   ],
   "source": [
    "calculate_salary(base_salary, bonus_rate)"
   ]
  }
 ],
 "metadata": {
  "kernelspec": {
   "display_name": ".venv",
   "language": "python",
   "name": "python3"
  },
  "language_info": {
   "codemirror_mode": {
    "name": "ipython",
    "version": 3
   },
   "file_extension": ".py",
   "mimetype": "text/x-python",
   "name": "python",
   "nbconvert_exporter": "python",
   "pygments_lexer": "ipython3",
   "version": "3.13.5"
  }
 },
 "nbformat": 4,
 "nbformat_minor": 5
}
