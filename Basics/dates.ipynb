{
 "cells": [
  {
   "cell_type": "markdown",
   "id": "90999179",
   "metadata": {},
   "source": [
    "Cleanup list and datetime objects"
   ]
  },
  {
   "cell_type": "code",
   "execution_count": 10,
   "id": "7e3ac7c5",
   "metadata": {},
   "outputs": [],
   "source": [
    "data_science_jobs = [\n",
    "    {'job_title': 'Data Scientist', 'job_skills': \"['Python', 'SQL', 'Machine Learning']\", 'job_date': '2023-05-12'},\n",
    "    {'job_title': 'Machine Learning Engineer', 'job_skills': \"['Python', 'TensorFlow', 'Deep Learning']\", 'job_date': '2023-05-15'},\n",
    "    {'job_title': 'Data Analyst', 'job_skills': \"['SQL', 'R', 'Tableau']\", 'job_date': '2023-05-10'},\n",
    "    {'job_title': 'Business Intelligence Developer', 'job_skills': \"['SQL', 'PowerBI', 'Data Warehousing']\", 'job_date': '2023-05-08'},\n",
    "    {'job_title': 'Data Engineer', 'job_skills': \"['Python', 'Spark', 'Hadoop']\", 'job_date': '2023-05-18'},\n",
    "    {'job_title': 'AI Specialist', 'job_skills': \"['Python', 'PyTorch', 'AI Ethics']\", 'job_date': '2023-05-20'}\n",
    "]"
   ]
  },
  {
   "cell_type": "code",
   "execution_count": 11,
   "id": "b5726ee3",
   "metadata": {},
   "outputs": [],
   "source": [
    "from datetime import datetime"
   ]
  },
  {
   "cell_type": "code",
   "execution_count": 12,
   "id": "4278942a",
   "metadata": {},
   "outputs": [
    {
     "data": {
      "text/plain": [
       "datetime.datetime(2025, 8, 1, 14, 6, 24, 741844)"
      ]
     },
     "execution_count": 12,
     "metadata": {},
     "output_type": "execute_result"
    }
   ],
   "source": [
    "datetime.now()"
   ]
  },
  {
   "cell_type": "code",
   "execution_count": 13,
   "id": "beef1e95",
   "metadata": {},
   "outputs": [
    {
     "data": {
      "text/plain": [
       "str"
      ]
     },
     "execution_count": 13,
     "metadata": {},
     "output_type": "execute_result"
    }
   ],
   "source": [
    "type(data_science_jobs[0]['job_date'])"
   ]
  },
  {
   "cell_type": "code",
   "execution_count": 14,
   "id": "2a660aa6",
   "metadata": {},
   "outputs": [],
   "source": [
    "test_date = data_science_jobs[0]['job_date']"
   ]
  },
  {
   "cell_type": "code",
   "execution_count": 15,
   "id": "855b83b5",
   "metadata": {},
   "outputs": [
    {
     "name": "stdout",
     "output_type": "stream",
     "text": [
      "2023-05-12 00:00:00\n"
     ]
    }
   ],
   "source": [
    "print(datetime.strptime(test_date, '%Y-%m-%d'))"
   ]
  },
  {
   "cell_type": "code",
   "execution_count": 16,
   "id": "03e52b19",
   "metadata": {},
   "outputs": [
    {
     "name": "stdout",
     "output_type": "stream",
     "text": [
      "[{'job_title': 'Data Scientist', 'job_skills': ['Python', 'SQL', 'Machine Learning'], 'job_date': datetime.datetime(2023, 5, 12, 0, 0)}, {'job_title': 'Machine Learning Engineer', 'job_skills': ['Python', 'TensorFlow', 'Deep Learning'], 'job_date': datetime.datetime(2023, 5, 15, 0, 0)}, {'job_title': 'Data Analyst', 'job_skills': ['SQL', 'R', 'Tableau'], 'job_date': datetime.datetime(2023, 5, 10, 0, 0)}, {'job_title': 'Business Intelligence Developer', 'job_skills': ['SQL', 'PowerBI', 'Data Warehousing'], 'job_date': datetime.datetime(2023, 5, 8, 0, 0)}, {'job_title': 'Data Engineer', 'job_skills': ['Python', 'Spark', 'Hadoop'], 'job_date': datetime.datetime(2023, 5, 18, 0, 0)}, {'job_title': 'AI Specialist', 'job_skills': ['Python', 'PyTorch', 'AI Ethics'], 'job_date': datetime.datetime(2023, 5, 20, 0, 0)}]\n"
     ]
    }
   ],
   "source": [
    "import ast\n",
    "\n",
    "for job in data_science_jobs:\n",
    "    job['job_date'] = datetime.strptime(job['job_date'], '%Y-%m-%d')\n",
    "    job['job_skills'] = ast.literal_eval(job['job_skills'])\n",
    "\n",
    "print(data_science_jobs)"
   ]
  }
 ],
 "metadata": {
  "kernelspec": {
   "display_name": ".venv",
   "language": "python",
   "name": "python3"
  },
  "language_info": {
   "codemirror_mode": {
    "name": "ipython",
    "version": 3
   },
   "file_extension": ".py",
   "mimetype": "text/x-python",
   "name": "python",
   "nbconvert_exporter": "python",
   "pygments_lexer": "ipython3",
   "version": "3.13.5"
  }
 },
 "nbformat": 4,
 "nbformat_minor": 5
}
