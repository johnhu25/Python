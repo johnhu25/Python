{
 "cells": [
  {
   "cell_type": "code",
   "execution_count": 5,
   "id": "3032f1be",
   "metadata": {},
   "outputs": [],
   "source": [
    "file = open('housing_data.csv', 'r')\n",
    "\n",
    "content = file.read()\n",
    "\n",
    "file.close()"
   ]
  },
  {
   "cell_type": "code",
   "execution_count": 6,
   "id": "c0444bee",
   "metadata": {},
   "outputs": [
    {
     "name": "stdout",
     "output_type": "stream",
     "text": [
      "{'longitude': ['-116.53402', '-118.02865', '-122.97033', '-119.759', '-120.28659', '-120.75118', '-122.78878', '-122.26085', '-123.96187', '-114.32905', '-114.51894', '-115.95151', '-121.68229', '-121.74707', '-119.08478', '-119.09352', '-114.76473', '-117.55624', '-118.27704', '-117.09835'], 'latitude': ['35.64988', '40.2062', '34.4426', '38.6483', '32.7633', '41.21469', '36.77076', '41.36167', '33.0077', '35.08159', '38.50669', '36.28596', '39.77542', '34.01842', '41.10445', '36.06044', '41.7786', '36.88386', '41.12996', '36.22573'], 'housing_median_age': ['34', '8', '6', '45', '3', '38', '13', '40', '13', '12', '32', '7', '1', '27', '26', '34', '4', '48', '30', '32'], 'total_rooms': ['7079', '2728', '8245', '6282', '5240', '2651', '3105', '1335', '2894', '4235', '2346', '9178', '2686', '5451', '5399', '2909', '9516', '4156', '3922', '6131'], 'total_bedrooms': ['2133', '2207', '535', '364', '1163', '1948', '2607', '307', '344', '2332', '2873', '1174', '1693', '298', '1479', '2866', '1276', '2618', '760', '2444'], 'population': ['2394', '1256', '1649', '3084', '3801', '189', '2366', '3099', '767', '3352', '2151', '617', '3173', '2281', '204', '4040', '2988', '4196', '4021', '1619'], 'households': ['583', '1346', '496', '1949', '220', '475', '756', '1689', '1773', '983', '354', '1334', '311', '958', '107', '639', '708', '1645', '1349', '1259'], 'median_income': ['5.5', '3.81', '12.95', '14.91', '7.29', '10.79', '5.74', '7.54', '14.47', '6.32', '5.85', '12.38', '9.81', '2.61', '4.32', '5.23', '10.22', '13.05', '5.24', '3.89'], 'median_house_value': ['212108', '170035', '133430', '84380', '48806', '140801', '117701', '189071', '302151', '346833', '31297', '285100', '377073', '414349', '456869', '322427', '236648', '200137', '214017', '298866']}\n"
     ]
    }
   ],
   "source": [
    "import csv\n",
    "\n",
    "data_dict = {}\n",
    "for index, row in enumerate(csv.reader(content.strip().split('\\n'))):\n",
    "    if index == 0:\n",
    "        # Initialize dictionary with column headers as keys\n",
    "        for column in row:\n",
    "            data_dict[column] = []\n",
    "    else:\n",
    "        # Append each element in the row to the correct list in the dictionary\n",
    "        for col_index, value in enumerate(row):\n",
    "            data_dict[list(data_dict.keys())[col_index]].append(value)\n",
    "\n",
    "# Print the dictionary to verify contents\n",
    "print(data_dict)"
   ]
  },
  {
   "cell_type": "code",
   "execution_count": 3,
   "id": "0e780dd3",
   "metadata": {},
   "outputs": [
    {
     "name": "stdout",
     "output_type": "stream",
     "text": [
      "^C\n",
      "Note: you may need to restart the kernel to use updated packages.\n"
     ]
    }
   ],
   "source": [
    "pip install pandas"
   ]
  },
  {
   "cell_type": "code",
   "execution_count": 4,
   "id": "b8e93bef",
   "metadata": {},
   "outputs": [
    {
     "data": {
      "text/plain": [
       "31421"
      ]
     },
     "execution_count": 4,
     "metadata": {},
     "output_type": "execute_result"
    }
   ],
   "source": [
    "import pandas as pd\n",
    "\n",
    "contents = pd.read_csv('housing_data.csv')\n",
    "\n",
    "int(contents['total_bedrooms'].sum())"
   ]
  }
 ],
 "metadata": {
  "kernelspec": {
   "display_name": ".venv",
   "language": "python",
   "name": "python3"
  },
  "language_info": {
   "codemirror_mode": {
    "name": "ipython",
    "version": 3
   },
   "file_extension": ".py",
   "mimetype": "text/x-python",
   "name": "python",
   "nbconvert_exporter": "python",
   "pygments_lexer": "ipython3",
   "version": "3.13.5"
  }
 },
 "nbformat": 4,
 "nbformat_minor": 5
}
