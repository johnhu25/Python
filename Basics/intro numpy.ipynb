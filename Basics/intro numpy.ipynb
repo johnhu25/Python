{
 "cells": [
  {
   "cell_type": "code",
   "execution_count": null,
   "id": "dc552bd9",
   "metadata": {},
   "outputs": [],
   "source": [
    "import random\n",
    "\n",
    "salary_list = [random.randint(50000, 100000) for _ in range(1_000_000)]\n",
    "\n",
    "salary_list"
   ]
  },
  {
   "cell_type": "code",
   "execution_count": 3,
   "id": "aea12e27",
   "metadata": {},
   "outputs": [
    {
     "name": "stdout",
     "output_type": "stream",
     "text": [
      "210 ms ± 29.8 ms per loop (mean ± std. dev. of 7 runs, 1 loop each)\n"
     ]
    }
   ],
   "source": [
    "%%timeit\n",
    "\n",
    "import statistics\n",
    "\n",
    "statistics.mean(salary_list)"
   ]
  },
  {
   "cell_type": "code",
   "execution_count": 4,
   "id": "8322b04f",
   "metadata": {},
   "outputs": [],
   "source": [
    "import numpy as np\n",
    "\n",
    "my_array = np.array([1,2,3,4,5])\n",
    "\n"
   ]
  },
  {
   "cell_type": "code",
   "execution_count": 12,
   "id": "06b47f42",
   "metadata": {},
   "outputs": [],
   "source": [
    "job_titles = np.array([\"Data Scientist\", \"Machine Learning Engineer\", \"Data Analyst\", \"AI Researcher\", \"Big Data Engineer\"])\n",
    "\n",
    "base_salaries = np.array([120000, 130000, 90000, 150000, 110000])\n",
    "\n",
    "bonus_rates = np.array([0.1, 0.15, 0.05, 0.2, 0.12])"
   ]
  },
  {
   "cell_type": "code",
   "execution_count": 21,
   "id": "0ea748c8",
   "metadata": {},
   "outputs": [
    {
     "data": {
      "text/plain": [
       "[array([132000., 149500.,  94500., 180000., 123200.])]"
      ]
     },
     "execution_count": 21,
     "metadata": {},
     "output_type": "execute_result"
    }
   ],
   "source": [
    "total_salaries = [base_salaries * (1 + bonus_rates)]\n",
    "\n",
    "total_salaries"
   ]
  },
  {
   "cell_type": "code",
   "execution_count": 20,
   "id": "9a89e908",
   "metadata": {},
   "outputs": [
    {
     "data": {
      "text/plain": [
       "135840.0"
      ]
     },
     "execution_count": 20,
     "metadata": {},
     "output_type": "execute_result"
    }
   ],
   "source": [
    "np.nanmean(total_salaries)\n",
    "mean_salary = np.mean(total_salaries)\n",
    "mean_salary_python = float(mean_salary)\n",
    "\n",
    "mean_salary_python"
   ]
  }
 ],
 "metadata": {
  "kernelspec": {
   "display_name": ".venv",
   "language": "python",
   "name": "python3"
  },
  "language_info": {
   "codemirror_mode": {
    "name": "ipython",
    "version": 3
   },
   "file_extension": ".py",
   "mimetype": "text/x-python",
   "name": "python",
   "nbconvert_exporter": "python",
   "pygments_lexer": "ipython3",
   "version": "3.13.5"
  }
 },
 "nbformat": 4,
 "nbformat_minor": 5
}
