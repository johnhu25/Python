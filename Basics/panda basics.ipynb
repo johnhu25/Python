{
 "cells": [
  {
   "cell_type": "code",
   "execution_count": 1,
   "id": "ad431c17",
   "metadata": {},
   "outputs": [
    {
     "name": "stderr",
     "output_type": "stream",
     "text": [
      "e:\\Downloads\\Python\\.venv\\Lib\\site-packages\\tqdm\\auto.py:21: TqdmWarning: IProgress not found. Please update jupyter and ipywidgets. See https://ipywidgets.readthedocs.io/en/stable/user_install.html\n",
      "  from .autonotebook import tqdm as notebook_tqdm\n"
     ]
    }
   ],
   "source": [
    "# Install datasets Library (if not already installed)\n",
    "# !pip install -U datasets\n",
    "\n",
    "# Importing Libraries\n",
    "import pandas as pd\n",
    "from datasets import load_dataset\n",
    "\n",
    "# Loading Data\n",
    "dataset = load_dataset('lukebarousse/data_jobs')\n",
    "df = dataset['train'].to_pandas()\n",
    "\n",
    "# Data Cleanup\n",
    "df['job_posted_date'] = pd.to_datetime(df['job_posted_date'])"
   ]
  },
  {
   "cell_type": "code",
   "execution_count": 3,
   "id": "e53a5b62",
   "metadata": {},
   "outputs": [],
   "source": [
    "us_jobs = df[df['job_country'] == 'United States']"
   ]
  },
  {
   "cell_type": "code",
   "execution_count": 5,
   "id": "041839f2",
   "metadata": {},
   "outputs": [],
   "source": [
    "us_jobs = us_jobs[us_jobs['salary_year_avg'].notna()]"
   ]
  },
  {
   "cell_type": "code",
   "execution_count": 11,
   "id": "2e20baee",
   "metadata": {},
   "outputs": [
    {
     "data": {
      "text/html": [
       "<div>\n",
       "<style scoped>\n",
       "    .dataframe tbody tr th:only-of-type {\n",
       "        vertical-align: middle;\n",
       "    }\n",
       "\n",
       "    .dataframe tbody tr th {\n",
       "        vertical-align: top;\n",
       "    }\n",
       "\n",
       "    .dataframe thead th {\n",
       "        text-align: right;\n",
       "    }\n",
       "</style>\n",
       "<table border=\"1\" class=\"dataframe\">\n",
       "  <thead>\n",
       "    <tr style=\"text-align: right;\">\n",
       "      <th></th>\n",
       "      <th>median</th>\n",
       "      <th>min</th>\n",
       "      <th>max</th>\n",
       "      <th>count</th>\n",
       "    </tr>\n",
       "    <tr>\n",
       "      <th>job_title_short</th>\n",
       "      <th></th>\n",
       "      <th></th>\n",
       "      <th></th>\n",
       "      <th></th>\n",
       "    </tr>\n",
       "  </thead>\n",
       "  <tbody>\n",
       "    <tr>\n",
       "      <th>Senior Data Scientist</th>\n",
       "      <td>155000.0</td>\n",
       "      <td>55000.0</td>\n",
       "      <td>475000.0</td>\n",
       "      <td>1241</td>\n",
       "    </tr>\n",
       "    <tr>\n",
       "      <th>Machine Learning Engineer</th>\n",
       "      <td>150000.0</td>\n",
       "      <td>44408.5</td>\n",
       "      <td>315000.0</td>\n",
       "      <td>128</td>\n",
       "    </tr>\n",
       "    <tr>\n",
       "      <th>Senior Data Engineer</th>\n",
       "      <td>150000.0</td>\n",
       "      <td>45000.0</td>\n",
       "      <td>375000.0</td>\n",
       "      <td>1058</td>\n",
       "    </tr>\n",
       "    <tr>\n",
       "      <th>Data Scientist</th>\n",
       "      <td>130000.0</td>\n",
       "      <td>30000.0</td>\n",
       "      <td>960000.0</td>\n",
       "      <td>4553</td>\n",
       "    </tr>\n",
       "    <tr>\n",
       "      <th>Software Engineer</th>\n",
       "      <td>130000.0</td>\n",
       "      <td>48982.0</td>\n",
       "      <td>375000.0</td>\n",
       "      <td>157</td>\n",
       "    </tr>\n",
       "    <tr>\n",
       "      <th>Data Engineer</th>\n",
       "      <td>125000.0</td>\n",
       "      <td>23496.0</td>\n",
       "      <td>525000.0</td>\n",
       "      <td>2915</td>\n",
       "    </tr>\n",
       "    <tr>\n",
       "      <th>Cloud Engineer</th>\n",
       "      <td>116100.0</td>\n",
       "      <td>42000.0</td>\n",
       "      <td>221844.0</td>\n",
       "      <td>20</td>\n",
       "    </tr>\n",
       "    <tr>\n",
       "      <th>Senior Data Analyst</th>\n",
       "      <td>110000.0</td>\n",
       "      <td>35360.0</td>\n",
       "      <td>425000.0</td>\n",
       "      <td>913</td>\n",
       "    </tr>\n",
       "    <tr>\n",
       "      <th>Business Analyst</th>\n",
       "      <td>90000.0</td>\n",
       "      <td>35000.0</td>\n",
       "      <td>387460.0</td>\n",
       "      <td>431</td>\n",
       "    </tr>\n",
       "    <tr>\n",
       "      <th>Data Analyst</th>\n",
       "      <td>90000.0</td>\n",
       "      <td>25000.0</td>\n",
       "      <td>375000.0</td>\n",
       "      <td>4350</td>\n",
       "    </tr>\n",
       "  </tbody>\n",
       "</table>\n",
       "</div>"
      ],
      "text/plain": [
       "                             median      min       max  count\n",
       "job_title_short                                              \n",
       "Senior Data Scientist      155000.0  55000.0  475000.0   1241\n",
       "Machine Learning Engineer  150000.0  44408.5  315000.0    128\n",
       "Senior Data Engineer       150000.0  45000.0  375000.0   1058\n",
       "Data Scientist             130000.0  30000.0  960000.0   4553\n",
       "Software Engineer          130000.0  48982.0  375000.0    157\n",
       "Data Engineer              125000.0  23496.0  525000.0   2915\n",
       "Cloud Engineer             116100.0  42000.0  221844.0     20\n",
       "Senior Data Analyst        110000.0  35360.0  425000.0    913\n",
       "Business Analyst            90000.0  35000.0  387460.0    431\n",
       "Data Analyst                90000.0  25000.0  375000.0   4350"
      ]
     },
     "execution_count": 11,
     "metadata": {},
     "output_type": "execute_result"
    }
   ],
   "source": [
    "us_jobs.groupby('job_title_short')['salary_year_avg'].agg(['median', 'min', 'max','count']).sort_values('median', ascending=False)"
   ]
  }
 ],
 "metadata": {
  "kernelspec": {
   "display_name": ".venv",
   "language": "python",
   "name": "python3"
  },
  "language_info": {
   "codemirror_mode": {
    "name": "ipython",
    "version": 3
   },
   "file_extension": ".py",
   "mimetype": "text/x-python",
   "name": "python",
   "nbconvert_exporter": "python",
   "pygments_lexer": "ipython3",
   "version": "3.13.5"
  }
 },
 "nbformat": 4,
 "nbformat_minor": 5
}
