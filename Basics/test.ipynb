{
 "cells": [
  {
   "cell_type": "markdown",
   "id": "8d72f7cd",
   "metadata": {},
   "source": [
    "Let's create a student in Python"
   ]
  },
  {
   "cell_type": "code",
   "execution_count": 26,
   "id": "c0c9c145",
   "metadata": {},
   "outputs": [
    {
     "name": "stdout",
     "output_type": "stream",
     "text": [
      "Alice 18 3.78\n"
     ]
    }
   ],
   "source": [
    "name = \"Alice\"\n",
    "capitalised_name = name.capitalize()\n",
    "age = 18\n",
    "GPA = 3.78\n",
    "print(name, age, GPA)"
   ]
  },
  {
   "cell_type": "code",
   "execution_count": 7,
   "id": "4f9f03c3",
   "metadata": {},
   "outputs": [
    {
     "name": "stdout",
     "output_type": "stream",
     "text": [
      "The student name is alice and they are 18 years old.\n"
     ]
    }
   ],
   "source": [
    "print(f\"The student name is {name} and they are {age} years old.\")"
   ]
  },
  {
   "cell_type": "markdown",
   "id": "00cbcb9d",
   "metadata": {},
   "source": [
    "Lets' calculate Alice's age in 15 years?"
   ]
  },
  {
   "cell_type": "code",
   "execution_count": 11,
   "id": "a48f78b0",
   "metadata": {},
   "outputs": [
    {
     "name": "stdout",
     "output_type": "stream",
     "text": [
      "The student name is Alice and they will be 33 years old.\n"
     ]
    }
   ],
   "source": [
    "age = age + 15\n",
    "print(f\"The student name is {capitalised_name} and they will be {age} years old.\")"
   ]
  },
  {
   "cell_type": "code",
   "execution_count": 18,
   "id": "cb4029fd",
   "metadata": {},
   "outputs": [
    {
     "name": "stdout",
     "output_type": "stream",
     "text": [
      "Alice is currently playing:  ['volleyball', 'basketball', 'netball', 'badminton']\n"
     ]
    }
   ],
   "source": [
    "sports = [\"volleyball\",'basketball', 'netball', \"badminton\"]\n",
    "sports[0]\n",
    "\n",
    "\n",
    "print(\"Alice is currently playing: \",sports)"
   ]
  },
  {
   "cell_type": "code",
   "execution_count": null,
   "id": "bb241fe5",
   "metadata": {},
   "outputs": [
    {
     "name": "stdout",
     "output_type": "stream",
     "text": [
      "Alice is currently playing:  ['volleyball', 'basketball', 'netball', 'badminton', 'table tennis']\n"
     ]
    }
   ],
   "source": [
    "sports.append(\"table tennis\")\n",
    "\n",
    "print(\"Alice is currently playing: \",sports)"
   ]
  },
  {
   "cell_type": "code",
   "execution_count": 20,
   "id": "13fad01b",
   "metadata": {},
   "outputs": [
    {
     "data": {
      "text/plain": [
       "['volleyball', 'basketball', 'netball']"
      ]
     },
     "execution_count": 20,
     "metadata": {},
     "output_type": "execute_result"
    }
   ],
   "source": [
    "sports[0:3]"
   ]
  },
  {
   "cell_type": "markdown",
   "id": "5ebbb5c8",
   "metadata": {},
   "source": [
    "Lets see last 3 sports Alice is playing"
   ]
  },
  {
   "cell_type": "code",
   "execution_count": 21,
   "id": "9a8225e3",
   "metadata": {},
   "outputs": [
    {
     "data": {
      "text/plain": [
       "'badminton'"
      ]
     },
     "execution_count": 21,
     "metadata": {},
     "output_type": "execute_result"
    }
   ],
   "source": [
    "sports[-2]"
   ]
  },
  {
   "cell_type": "code",
   "execution_count": 1,
   "id": "f9be31d1",
   "metadata": {},
   "outputs": [
    {
     "name": "stdout",
     "output_type": "stream",
     "text": [
      "Student's letter grade is A\n"
     ]
    }
   ],
   "source": [
    "student_gpa = float(input(\"What is your GPA?\"))\n",
    "\n",
    "if student_gpa <= 2:\n",
    "    letter_grade = \"D\"\n",
    "elif student_gpa <= 3:\n",
    "    letter_grade = \"C\"\n",
    "elif student_gpa <= 3.5:\n",
    "    letter_grade = \"B\"\n",
    "else:\n",
    "    letter_grade = \"A\"\n",
    "\n",
    "print(f\"Student's letter grade is {letter_grade}\")"
   ]
  }
 ],
 "metadata": {
  "kernelspec": {
   "display_name": ".venv",
   "language": "python",
   "name": "python3"
  },
  "language_info": {
   "codemirror_mode": {
    "name": "ipython",
    "version": 3
   },
   "file_extension": ".py",
   "mimetype": "text/x-python",
   "name": "python",
   "nbconvert_exporter": "python",
   "pygments_lexer": "ipython3",
   "version": "3.13.5"
  }
 },
 "nbformat": 4,
 "nbformat_minor": 5
}
